# -*- coding: utf-8 -*-
"""
Created on Fri May  6 04:56:57 2022

@author: hiram
"""

dicionario = {}
print(dicionario)